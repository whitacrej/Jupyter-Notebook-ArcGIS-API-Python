{
 "cells": [
  {
   "cell_type": "markdown",
   "metadata": {},
   "source": [
    "# Getting Started with Jupyter Notebook and the ArcGIS API for Python\n",
    "---"
   ]
  },
  {
   "cell_type": "markdown",
   "metadata": {},
   "source": [
    "## Description\n",
    "\n",
    "This session is a 2-4-1 session: Learn Jupyter Notebook and the ArcGIS API for Python (yes, this is different than ArcPy…)! The Jupyter Notebook environment allows users to run and save Python code and workflows interactively and, when utilizing the ArcGIS API for Python, visualize the output as maps and charts. This session is perfect for beginners who want to build their [Pythonic](https://blog.startifact.com/posts/older/what-is-pythonic.html) muscles and also learn more about using Python for ArcGIS Online.\n",
    "\n",
    "### Duration\n",
    "40 minutes\n",
    "\n",
    "### Tech Requirements\n",
    "- Windows: ArcGIS Pro, Python 3\\*, Jupyter Notebook\\* (*installed with ArcGIS Pro)\n",
    "    - *ArcMap and Python 2 WILL NOT work*\n",
    "- Mac: See [here](https://developers.arcgis.com/python/guide/system-requirements)\n",
    "\n",
    "### GitHub Repo\n",
    "\n",
    "**Getting Started with Jupyter Notebook and the ArcGIS API for Python:** https://github.com/whitacrej/Jupyter-Notebook-ArcGIS-API-Python\n",
    "\n",
    "### Instructor\n",
    "\n",
    "<img style=\"float: left;\" alt=\"Image of James Whitacre\" src=\"http://summits.harrisburgu.edu/geodev/wp-content/uploads/sites/2/et_temp/Whitacre_James-136114_60x60.png\"><br><br><br>\n",
    "\n",
    "**James Whitacre, GIS Research Scientist, Carnegie Museum of Natural History, Powdermill Nature Reserve**\n",
    "\n",
    "James Whitacre is the GIS Research Scientist for the Carnegie Museum of Natural History where he manages the GIS Lab at Powdermill Nature Reserve, the Museum’s environmental research center, and supports museum staff and affiliated researchers with geospatial technologies and needs. This is Whitacre’s second appointment at the Museum as he was formerly the GIS Manager from 2011 to 2014. Before returning to the Museum in 2018, Whitacre was the GIS Specialist for the Main Library at the University of Illinois at Urbana-Champaign where he provided GIS consultations for researchers and scholars, taught GIS workshops to promote the use of GIS in research. Whitacre holds a Bachelor of Arts in Zoology from Ohio Wesleyan University and a Master of Science in Geography, concentrating on GIS and cartography, from Indiana University of Pennsylvania.\n",
    "\n",
    "---"
   ]
  },
  {
   "cell_type": "markdown",
   "metadata": {},
   "source": [
    "## Outline\n",
    "\n",
    "1. [What is Jupyter and Jupyter Notebook?](#What-is-Jupyter-and-Jupyter-Notebook?)\n",
    "\n",
    "\n",
    "2. [Jupyter Notebook Startup, Interface, Documents, and Features](#Jupyter-Notebook-Startup,-Interface,-Documents,-and-Features)\n",
    "\n",
    "    - Overview of the software and how to use it\n",
    "    \n",
    "\n",
    "3. [Understanding Markdown](#Understanding-Markdown)\n",
    "\n",
    "    - Examples of Markdown markup language for stylizing the notebook\n",
    "    \n",
    "\n",
    "4. [Working with Code cells](#Working-with-Code-cells)\n",
    "\n",
    "    - How to run code directly in the notebook\n",
    "    - Developing workflows\n",
    "    \n",
    "\n",
    "5. [Overview of the ArcGIS API for Python](#Overview-of-the-ArcGIS-API-for-Python)\n",
    "\n",
    "    - Documentation of the API\n",
    "    - Difference between ArcPy\n",
    "    \n",
    "\n",
    "6. [Using ArcGIS API for Python in Jupyter Notebook](#Using-ArcGIS-API-for-Python-in-Jupyter-Notebook)\n",
    "    - Administering ArcGIS Online\n",
    "    - Working with ArcGIS Online items\n",
    "    - Mapping and visualization\n",
    "    \n",
    "    \n",
    "---"
   ]
  },
  {
   "cell_type": "markdown",
   "metadata": {},
   "source": [
    "## What is Jupyter and Jupyter Notebook?\n",
    "\n",
    "\n",
    "### Jupyter\n",
    "\n",
    "- **Actually, it is [Project Jupyter](https://jupyter.org/)**\n",
    "\n",
    "<img alt=\"Jupyter Project logo\" style=\"height: 100px;\" src=\"https://jupyter.org/assets/main-logo.svg\">\n",
    "\n",
    "> Project Jupyter is a non-profit, open-source project, born out of the [IPython Project](https://ipython.org/) in 2014 as it evolved to support interactive data science and scientific computing across all programming languages. Jupyter will always be 100% open-source software, free for all to use and released under the liberal terms of the [modified BSD license](https://opensource.org/licenses/BSD-3-Clause).\n",
    "\n",
    "- **[IPython](https://ipython.org/) is...**\n",
    "\n",
    "![IPython Logo](https://ipython.org/_static/IPy_header.png)\n",
    "\n",
    "> IPython provides a rich architecture for interactive computing with:\n",
    ">\n",
    ">    - A powerful interactive shell.\n",
    ">    - A kernel for Jupyter.\n",
    ">    - Support for interactive data visualization and use of GUI toolkits.\n",
    ">    - Flexible, embeddable interpreters to load into your own projects.\n",
    ">    - Easy to use, high performance tools for parallel computing.\n",
    "\n",
    "- **So, it has it roots in Python**\n",
    "\n",
    "- **But can be used with other programming languages**\n",
    "\n",
    "\n",
    "### Jupyter Notebook\n",
    "\n",
    "<img atl=\"Jupyter Notebook Example\" style=\"width: 500px;\" src=\"https://jupyter.org/assets/jupyterpreview.png\">\n",
    "\n",
    "- **Web-based application (i.e. browser-based) to help capture entire computational workflows and processes**\n",
    "\n",
    "    - Development\n",
    "    - Documentation\n",
    "    - Code execution\n",
    "    - Visualizing and communicationg results\n",
    "\n",
    "- **Main Features**\n",
    "\n",
    "    - Acts as an interactive IDE, including syntax highlighting, indentation, code completion\n",
    "    - Executes code directly in the browser environment and maintains results until cleared or when code is run again\n",
    "    - Utilizes Markdown markup language to provide additional code commentary or for presentations\n",
    "\n",
    "\n",
    "For further resources:\n",
    "\n",
    "Project Jupyter: https://jupyter.org/index.html\n",
    "\n",
    "Jupyter Notebook Documentation: https://jupyter-notebook.readthedocs.io/en/stable/index.html\n",
    "\n",
    "---"
   ]
  },
  {
   "cell_type": "markdown",
   "metadata": {},
   "source": [
    "## Jupyter Notebook Startup, Interface, Documents, and Features\n",
    "\n",
    "\n",
    "### Starting Jupyter Notebook\n",
    "\n",
    "- **ArcGIS Pro 2.x Installed**\n",
    "\n",
    "    - Method 1\n",
    "    \n",
    "        - Navigate to **Start Menu > All Programs > ArcGIS > Jupyter Notebook**\n",
    "        - Wait for the Jupyter Notebook window to run and the dashboard to open in your defaul browser\n",
    "    \n",
    "    - Method 2\n",
    "\n",
    "        - Navigate to **Start Menu > All Programs > ArcGIS > Python Command Prompt**\n",
    "        - Change to a directory with notebooks in it, or one where you want to create notebooks\n",
    "            \n",
    "            `cd C:\\path`<br><br>\n",
    "            \n",
    "        - Enter the following at the prompt to start jupyter:\n",
    "            \n",
    "            `jupyter notebook`<br><br>\n",
    "            \n",
    "        - Wait for the Jupyter Notebook window to run and the dashboard to open in your defaul browser\n",
    "\n",
    "\n",
    "- **Installed via Conda or Other Method (No ArcGIS Pro install)**\n",
    "\n",
    "    - You will need to install it manually\n",
    "    - See ArcGIS API for Python documentation: **[Install and Set Up](https://developers.arcgis.com/python/guide/install-and-set-up/)**\n",
    "    - Then see ArcGIS API for Python documentation: **[Using the Jupyter Notebook environment](https://developers.arcgis.com/python/guide/using-the-jupyter-notebook-environment/)**\n",
    "    - Sorry, I can't provide much more help than the documentation...this isn't how I use Python\n",
    "\n",
    "---"
   ]
  },
  {
   "cell_type": "markdown",
   "metadata": {},
   "source": [
    "### Understanding the Interface\n",
    "\n",
    "- The Jupyter Notebook Dashboard will open in\n",
    "![Jupyter Notebook Dashboard](https://developers.arcgis.com/assets/img/python-graphics/guide_getstarted_usingjupyternotebooks_02.png)\n",
    "\n",
    "- Click the Running tab\n",
    "    - When notebooks are open and being editied, they will show up here  \n",
    "- Navigate to or create a folder to save a Notebook document\n",
    "    - Click New (upper right corner) > Other: Folder (optional)\n",
    "- Create a Jupyter Notebook document\n",
    "    - Click New > Notebook: Python 3\n",
    "    - Click the Notebook title at the top - should be 'Untitiled'\n",
    "    - Change the name to 'ArcGIS Fun' and click Rename\n",
    "    - Type the following code in the first cell to test to make sure it works\n",
    "\n",
    "    ```python\n",
    "    from arcgis.gis import GIS\n",
    "    my_gis = GIS()\n",
    "    my_gis.map()\n",
    "    ```    \n",
    "    - Click the Run button or hit `Ctrl + Enter` to make sure everything works\n",
    "    \n",
    "---"
   ]
  },
  {
   "cell_type": "code",
   "execution_count": null,
   "metadata": {},
   "outputs": [],
   "source": [
    "from arcgis.gis import GIS\n",
    "gis = GIS()\n",
    "gis.map()"
   ]
  },
  {
   "cell_type": "markdown",
   "metadata": {},
   "source": [
    "### Notebook Documents \n",
    "\n",
    "- Used to save code inputs, outputs, workflows, and contents\n",
    "- Allows for complete compuational record of a session\n",
    "- In the backgorund, they are simpley JSON files saved with the `.ipnyb` extension\n",
    "- Can be exported to other static formats, such as HTML, PDF, or LaTeX\n",
    "- Can also be easily shared and viewed with collaborators, in GitHub, and other platforms\n",
    "\n",
    "---"
   ]
  },
  {
   "cell_type": "markdown",
   "metadata": {},
   "source": [
    "### Exploring Notebook Features\n",
    "\n",
    "- Adding Cells\n",
    "- Copy/Cut and Paste Cells\n",
    "- Move Cells\n",
    "- Running Code\n",
    "- Change the cell to a Markdown cell\n",
    "- Keyboard shortcuts: Help > Keyboard Shortcuts\n",
    "    - Command mode vs. Edit mode\n",
    "- Command Pallete (note keyboard shortcuts)\n",
    "\n",
    "---"
   ]
  },
  {
   "cell_type": "markdown",
   "metadata": {},
   "source": [
    "## Understanding Markdown\n",
    "\n",
    "\n",
    "### What is Markdown?\n",
    "\n",
    "- Lightweight markup language used to add formatting elements to plaintext text documents\n",
    "- Syntax is designed to be readable and unobtrusive, so the text in Markdown files can be read even if it isn’t rendered\n",
    "- Writing in Markdown easy because it hides the stuff happening behind the scenes\n",
    "- Created by John Gruber in 2004 and is now one of the world’s most popular markup languages\n",
    "\n",
    "### View Examples in this Document\n",
    "\n",
    "### Helpful Markdown Rsources\n",
    "\n",
    "- [GitHub](https://help.github.com/en/articles/getting-started-with-writing-and-formatting-on-github)\n",
    "- [GitHub Cheatsheet](https://github.com/adam-p/markdown-here/wiki/Markdown-Cheatsheet)\n",
    "- [Markdown Guide](https://www.markdownguide.org/)\n",
    "- [Jupyter Notebook Markdown](https://jupyter-notebook.readthedocs.io/en/stable/examples/Notebook/Working%20With%20Markdown%20Cells.html?highlight=code%20bock#Markdown-Cells)\n",
    "\n",
    "---"
   ]
  },
  {
   "cell_type": "markdown",
   "metadata": {},
   "source": [
    "## Working with Code cells\n",
    "\n",
    "> First and foremost, the Jupyter Notebook is an interactive environment for writing and running code. The notebook is capable of running code in a wide range of languages. However, each notebook is associated with a single kernel. This notebook is associated with the IPython kernel, therefor runs Python code.\n",
    "\n",
    "- Starts with writing code first in the code cell\n",
    "- Then run the code using `Shift + Enter` or pressing the Run button in the toolbar\n",
    "    - There are two other keyboard shortcuts for running code:\n",
    "        - `Alt + Enter` runs the current cell and inserts a new one below\n",
    "        - `Ctrl + Enter` run the current cell and enters command mode\n",
    "- Code is run in the 'Kernal'\n",
    "    - It can be interupted and restarted if needed\n",
    "- Output is asynchronous\n",
    "    - This means that each cell is run independently\n",
    "    - But, any variables form previous cells are retatined\n",
    "    - Outputs are also seen as they happen\n",
    "\n",
    "See Jupyter Notebook Documentation: [Running Code](https://jupyter-notebook.readthedocs.io/en/stable/examples/Notebook/Running%20Code.html) for more information\n",
    "\n",
    "---"
   ]
  },
  {
   "cell_type": "code",
   "execution_count": null,
   "metadata": {},
   "outputs": [],
   "source": [
    "import time, sys\n",
    "for i in range(8):\n",
    "    print(i)\n",
    "    time.sleep(0.5)"
   ]
  },
  {
   "cell_type": "markdown",
   "metadata": {},
   "source": [
    "## Overview of the ArcGIS API for Python\n",
    "\n",
    "> ArcGIS API for Python is a Python library for working with maps and geospatial data, powered by web GIS. It provides simple and efficient tools for sophisticated vector and raster analysis, geocoding, map making, routing and directions, as well as for organizing and managing a GIS with users, groups and information items. In addition to working with your own data, the library enables access to ready to use maps and curated geographic data from Esri and other authoritative sources. It also integrates well with the scientific Python ecosystem and includes rich support for Pandas and Jupyter notebook.\n",
    "\n",
    "From [ArcGIS API for Python](https://developers.arcgis.com/python/)\n",
    "\n",
    "\n",
    "### Pythonic Design\n",
    " - Means that it conforms to Python best practices \n",
    " - Uses stadard Python constructs and data structures with clean, readable idioms\n",
    " - Can be used in ArcGIS Online and ArcGIS Enterprise\n",
    " \n",
    " ### Architecture\n",
    " \n",
    "- Modules:\n",
    " \n",
    " <img atl=\"ArcGIS API for Python Modules image\" style=\"width: 500px;\" src=\"https://developers.arcgis.com/assets/img/python-graphics/guide_api_overview_modules.png\">\n",
    "\n",
    "- The `gis` module is the most important and provided the entry point into the GIS\n",
    "- Green modules access the various spatial capabilities or geographic datasets in the GIS\n",
    "- Blue modules provide additional functionality for workflows\n",
    "- Orange modules allow for visualization and dissemination of GIS data and analysis\n",
    "\n",
    "\n",
    "\n",
    "---"
   ]
  },
  {
   "cell_type": "markdown",
   "metadata": {},
   "source": [
    "## Using ArcGIS API for Python in Jupyter Notebook\n",
    "\n",
    "### The `gis` Module\n",
    "\n",
    "- Architecture:\n",
    "\n",
    " <img atl=\"ArcGIS API for Python gis module architecture image\" src=\"https://developers.arcgis.com/assets/img/python-graphics/guide_gis_module_01.png\">\n",
    "\n",
    "- The main classes in the gis module are:\n",
    "\n",
    "    - **GIS** : represents the GIS, either ArcGIS Online or an ArcGIS Portal\n",
    "    - **User** : represents a GIS user\n",
    "    - **Role** : represents the role of a GIS user\n",
    "    - **Group** : represents a group in the GIS\n",
    "    - **Item** : represents an Item in the GIS\n",
    "\n",
    "### Lets get into the `gis` module\n",
    "\n",
    "- You will need an ArcGIS Online account to do some of the examples\n",
    "- All examples can be done with a Publisher role or greater\n",
    "\n",
    "---"
   ]
  },
  {
   "cell_type": "code",
   "execution_count": null,
   "metadata": {},
   "outputs": [],
   "source": [
    "# Import the GIS object from the arcgis.gis module\n",
    "\n",
    "from arcgis.gis import GIS\n",
    "\n",
    "# Create a variable for a username\n",
    "\n",
    "ago_user = 'WhitacreJ_CMNH' # Add your username between the quotes ''; it is case sensitive!\n",
    "\n",
    "# Create the GIS object into ArcGIS Online using the username variable\n",
    "# This method will ask for a password...that way you can't see my password while I present\n",
    "\n",
    "gis = GIS('https://www.arcgis.com', ago_user)\n",
    "\n",
    "print(\"Your're in!\")"
   ]
  },
  {
   "cell_type": "markdown",
   "metadata": {},
   "source": [
    "- Click after `gis.` so the cursor is to the right of the period\n",
    "- Hit Tab on your keyboard\n",
    "- Select or click on `properties`: `gis.properties'\n",
    "- Hit `Shift + Enter`\n",
    "- Scroll down to see all the properties\n",
    "- Experiment with a few other options\n",
    "    - Avoid `updateProperties`\n",
    "    - Note that some require parenthese after: `gis.map()`"
   ]
  },
  {
   "cell_type": "code",
   "execution_count": null,
   "metadata": {},
   "outputs": [],
   "source": [
    "gis."
   ]
  },
  {
   "cell_type": "code",
   "execution_count": null,
   "metadata": {},
   "outputs": [],
   "source": [
    "user = gis.users.get(ago_user)\n",
    "user"
   ]
  },
  {
   "cell_type": "markdown",
   "metadata": {},
   "source": [
    "- Click after `user.` so the cursor is to the right of the period\n",
    "- Hit Tab on your keyboard\n",
    "- Select or click on `availableCredits`\n",
    "- Hit `Shift + Enter`\n",
    "- Experiment with a few other options\n",
    "    - Avoid `delete`; though it may not work anyway if you are not an admin"
   ]
  },
  {
   "cell_type": "code",
   "execution_count": null,
   "metadata": {},
   "outputs": [],
   "source": [
    "user."
   ]
  },
  {
   "cell_type": "markdown",
   "metadata": {},
   "source": [
    "### Searching for Content\n",
    "\n",
    "See [Documentation](https://esri.github.io/arcgis-python-api/apidoc/html/arcgis.gis.toc.html#arcgis.gis.ContentManager.search)\n",
    "\n",
    "Also see ArcGIS REST API Documentation for [Search reference](https://developers.arcgis.com/rest/users-groups-and-items/search-reference.htm)"
   ]
  },
  {
   "cell_type": "code",
   "execution_count": null,
   "metadata": {},
   "outputs": [],
   "source": [
    "# gis = GIS()\n",
    "# gis.map()\n",
    "\n",
    "items = gis.content.search(query='Pennsylvania Unconventional Natural Gas Wells owner:CarnegieMNH', outside_org=True)\n",
    "\n",
    "for item in items:\n",
    "    print(item)"
   ]
  },
  {
   "cell_type": "markdown",
   "metadata": {},
   "source": [
    "#### Let's view it as an IPython display"
   ]
  },
  {
   "cell_type": "code",
   "execution_count": null,
   "metadata": {},
   "outputs": [],
   "source": [
    "from IPython.display import display\n",
    "\n",
    "for item in items:\n",
    "    display(item)"
   ]
  },
  {
   "cell_type": "markdown",
   "metadata": {},
   "source": [
    "### Let's play with a map"
   ]
  },
  {
   "cell_type": "code",
   "execution_count": null,
   "metadata": {
    "scrolled": true
   },
   "outputs": [],
   "source": [
    "wells_map = gis.map('Pennsylvania')\n",
    "wells_map"
   ]
  },
  {
   "cell_type": "markdown",
   "metadata": {},
   "source": [
    "#### Change the basemap..."
   ]
  },
  {
   "cell_type": "code",
   "execution_count": null,
   "metadata": {},
   "outputs": [],
   "source": [
    "wells_map.basemap = 'dark-gray-vector'"
   ]
  },
  {
   "cell_type": "markdown",
   "metadata": {},
   "source": [
    "#### Add the UnconventionalWellsPA layer from the list above\n",
    "\n",
    "When the layer loads, click on a feature to see the popup"
   ]
  },
  {
   "cell_type": "code",
   "execution_count": null,
   "metadata": {},
   "outputs": [],
   "source": [
    "unc_layer = [item for item in items if item.title == 'UnconventionalWellsPA'][0]\n",
    "\n",
    "wells_map.add_layer(unc_layer)"
   ]
  },
  {
   "cell_type": "markdown",
   "metadata": {},
   "source": [
    "#### Let's query some feature and look at the table..."
   ]
  },
  {
   "cell_type": "code",
   "execution_count": null,
   "metadata": {
    "scrolled": true
   },
   "outputs": [],
   "source": [
    "# First we will see what fields we have\n",
    "\n",
    "feature_layer = unc_layer.layers[0] # This gets the actual layer from the Item\n",
    "\n",
    "for f in feature_layer.properties.fields:\n",
    "    print(f['name'])"
   ]
  },
  {
   "cell_type": "code",
   "execution_count": null,
   "metadata": {},
   "outputs": [],
   "source": [
    "# Query the layer and select fields\n",
    "\n",
    "query = feature_layer.query(where=\"COUNTY = 'Westmoreland' and MUNICIPALITY = 'Derry' and PROD_GAS_QUANT > 0\", \n",
    "                           out_fields='PERMIT_NO, CURRENT_OPERATOR, FARM_NAME, MUNICIPALITY, PROD_GAS_QUANT, VIOL_COUNT')\n",
    "\n",
    "len(query.features)"
   ]
  },
  {
   "cell_type": "code",
   "execution_count": null,
   "metadata": {},
   "outputs": [],
   "source": [
    "# view the table in a spatial data frame\n",
    "\n",
    "query.sdf"
   ]
  }
 ],
 "metadata": {
  "kernelspec": {
   "display_name": "Python 3",
   "language": "python",
   "name": "python3"
  },
  "language_info": {
   "codemirror_mode": {
    "name": "ipython",
    "version": 3
   },
   "file_extension": ".py",
   "mimetype": "text/x-python",
   "name": "python",
   "nbconvert_exporter": "python",
   "pygments_lexer": "ipython3",
   "version": "3.6.6"
  }
 },
 "nbformat": 4,
 "nbformat_minor": 2
}
